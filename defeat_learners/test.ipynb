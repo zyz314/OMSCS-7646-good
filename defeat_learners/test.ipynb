{
 "cells": [
  {
   "cell_type": "code",
   "execution_count": 1,
   "metadata": {},
   "outputs": [],
   "source": [
    "import numpy as np"
   ]
  },
  {
   "cell_type": "code",
   "execution_count": 6,
   "metadata": {},
   "outputs": [],
   "source": [
    "from DTLearnerNM import DTLearner as dt\n",
    "from LinRegLearner import LinRegLearner as lrl"
   ]
  },
  {
   "cell_type": "code",
   "execution_count": 7,
   "metadata": {},
   "outputs": [],
   "source": [
    "dt1 = dt()\n",
    "lr1 = lrl()"
   ]
  },
  {
   "cell_type": "code",
   "execution_count": 8,
   "metadata": {},
   "outputs": [],
   "source": [
    "def best_4_lin_reg(seed=1489683273):  \t\t  \t   \t\t \t   \t\t\t  \t\t \t\t\t     \t\t\t  \t \n",
    "    \"\"\"  \t\t  \t   \t\t \t   \t\t\t  \t\t \t\t\t     \t\t\t  \t \n",
    "    Returns data that performs significantly better with LinRegLearner than DTLearner.  \t\t  \t   \t\t \t   \t\t\t  \t\t \t\t\t     \t\t\t  \t \n",
    "    The data set should include from 2 to 10 columns in X, and one column in Y.  \t\t  \t   \t\t \t   \t\t\t  \t\t \t\t\t     \t\t\t  \t \n",
    "    The data should contain from 10 (minimum) to 1000 (maximum) rows.  \t\t  \t   \t\t \t   \t\t\t  \t\t \t\t\t     \t\t\t  \t \n",
    "  \t\t  \t   \t\t \t   \t\t\t  \t\t \t\t\t     \t\t\t  \t \n",
    "    :param seed: The random seed for your data generation.  \t\t  \t   \t\t \t   \t\t\t  \t\t \t\t\t     \t\t\t  \t \n",
    "    :type seed: int  \t\t  \t   \t\t \t   \t\t\t  \t\t \t\t\t     \t\t\t  \t \n",
    "    :return: Returns data that performs significantly better with LinRegLearner than DTLearner.  \t\t  \t   \t\t \t   \t\t\t  \t\t \t\t\t     \t\t\t  \t \n",
    "    :rtype: numpy.ndarray  \t\t  \t   \t\t \t   \t\t\t  \t\t \t\t\t     \t\t\t  \t \n",
    "    \"\"\"  \t\t  \t   \t\t \t   \t\t\t  \t\t \t\t\t     \t\t\t  \t \n",
    "    np.random.seed(seed)  \t\t  \t   \t\t \t   \t\t\t  \t\t \t\t\t     \t\t\t  \t \n",
    "    # x = np.random.randint(low=10,high=100,size=(100, 2))  \t\t  \t   \t\t \t   \t\t\t  \t\t \t\t\t     \t\t\t  \t \n",
    "    # y = np.random.random(size=(100,)) * 200 - 100  \t\t  \t   \t\t \t   \t\t\t  \t\t \t\t\t     \t\t\t  \t \n",
    "    # Here's is an example of creating a Y from randomly generated  \t\t  \t   \t\t \t   \t\t\t  \t\t \t\t\t     \t\t\t  \t \n",
    "    # X with multiple columns  \t\t  \t   \t\t \t   \t\t\t  \t\t \t\t\t     \t\t\t  \t \n",
    "    # y = x[:,0] + np.sin(x[:,1]) + x[:,2]**2 + x[:,3]**3  \t\t  \t   \t\t \t   \t\t\t  \t\t \n",
    "    row_count = np.random.randint(low=10,high=1001)\n",
    "    column_count = np.random.randint(low=2,high=11)\n",
    "    x = np.random.random(size=(row_count, column_count))\n",
    "    # y = mx+b\n",
    "    m = np.random.randint(low=1,high=6)\n",
    "    b = np.random.randint(low=-20,high=21)\n",
    "    y=(m*x).sum(axis=1)+b\t\t\t     \n",
    "    # Since the model is linear, it will succeed on linearly created data\t\t\t  \t \n",
    "    return x, y  \t\t  \t   \t\t \t   \t\t\t  \t\t \t\t\t     \t\t\t  \t \n",
    "  \t\t  \t   \t\t \t   \t\t\t  \t\t \t\t\t     \t\t\t  \t \n",
    "  \t\t  \t   \t\t \t   \t\t\t  \t\t \t\t\t     \t\t\t  \t \n",
    "def best_4_dt(seed=1489683273):  \t\t  \t   \t\t \t   \t\t\t  \t\t \t\t\t     \t\t\t  \t \n",
    "    \"\"\"  \t\t  \t   \t\t \t   \t\t\t  \t\t \t\t\t     \t\t\t  \t \n",
    "    Returns data that performs significantly better with DTLearner than LinRegLearner.  \t\t  \t   \t\t \t   \t\t\t  \t\t \t\t\t     \t\t\t  \t \n",
    "    The data set should include from 2 to 10 columns in X, and one column in Y.  \t\t  \t   \t\t \t   \t\t\t  \t\t \t\t\t     \t\t\t  \t \n",
    "    The data should contain from 10 (minimum) to 1000 (maximum) rows.  \t\t  \t   \t\t \t   \t\t\t  \t\t \t\t\t     \t\t\t  \t \n",
    "  \t\t  \t   \t\t \t   \t\t\t  \t\t \t\t\t     \t\t\t  \t \n",
    "    :param seed: The random seed for your data generation.  \t\t  \t   \t\t \t   \t\t\t  \t\t \t\t\t     \t\t\t  \t \n",
    "    :type seed: int  \t\t  \t   \t\t \t   \t\t\t  \t\t \t\t\t     \t\t\t  \t \n",
    "    :return: Returns data that performs significantly better with DTLearner than LinRegLearner.  \t\t  \t   \t\t \t   \t\t\t  \t\t \t\t\t     \t\t\t  \t \n",
    "    :rtype: numpy.ndarray  \t\t  \t   \t\t \t   \t\t\t  \t\t \t\t\t     \t\t\t  \t \n",
    "    \"\"\"  \t\t  \t   \t\t \t   \t\t\t  \t\t \t\t\t     \t\t\t  \t \n",
    "    np.random.seed(seed)  \t\t  \t   \t\t \t   \t\t\t  \t\t \t\t\t     \t\t\t  \t \n",
    "    # x = np.zeros((100, 2))  \t\t  \t   \t\t \t   \t\t\t  \t\t \t\t\t     \t\t\t  \t \n",
    "    # y = np.random.random(size=(100,)) * 200 - 100  \t\t  \t   \t\t \t   \t\t\t  \t\t \t\t\t     \t\t\t  \t \n",
    "    row_count = np.random.randint(low=10,high=1001)\n",
    "    column_count = np.random.randint(low=2,high=11)\n",
    "    x = np.random.random(size=(row_count, column_count))\n",
    "    # degrees = np.random.randint(low = 2, high = 5)\n",
    "    y = np.power(x,2).sum(axis=1)\n",
    "    return x, y  "
   ]
  },
  {
   "cell_type": "code",
   "execution_count": 18,
   "metadata": {},
   "outputs": [],
   "source": [
    "def polynomial_2_to_5(x,degrees):\n",
    "    y = np.zeros(x.shape[0])\n",
    "    for i in range(2,degrees+1):\n",
    "        y += np.power(x,i).sum(axis=1)\n",
    "    y += x.sum(axis=1)\n",
    "    return y"
   ]
  },
  {
   "cell_type": "code",
   "execution_count": 55,
   "metadata": {},
   "outputs": [],
   "source": [
    "x = np.random.random(size=(100,5))"
   ]
  },
  {
   "cell_type": "code",
   "execution_count": 45,
   "metadata": {},
   "outputs": [],
   "source": [
    "N = x.shape[1]"
   ]
  },
  {
   "cell_type": "code",
   "execution_count": 52,
   "metadata": {},
   "outputs": [],
   "source": [
    "functions ={\"sin\":np.sin,\"pow\":np.power,\"sum\":np.sum}\n",
    "fun = functions[np.random.choice(list(functions.keys()))]"
   ]
  },
  {
   "cell_type": "code",
   "execution_count": null,
   "metadata": {},
   "outputs": [],
   "source": []
  }
 ],
 "metadata": {
  "kernelspec": {
   "display_name": "py310",
   "language": "python",
   "name": "python3"
  },
  "language_info": {
   "codemirror_mode": {
    "name": "ipython",
    "version": 3
   },
   "file_extension": ".py",
   "mimetype": "text/x-python",
   "name": "python",
   "nbconvert_exporter": "python",
   "pygments_lexer": "ipython3",
   "version": "3.10.12"
  }
 },
 "nbformat": 4,
 "nbformat_minor": 2
}
