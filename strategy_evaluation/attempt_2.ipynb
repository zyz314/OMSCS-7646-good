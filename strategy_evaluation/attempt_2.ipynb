{
 "cells": [
  {
   "cell_type": "markdown",
   "metadata": {},
   "source": [
    "# Imports"
   ]
  },
  {
   "cell_type": "code",
   "execution_count": 1,
   "metadata": {},
   "outputs": [],
   "source": [
    "import os\n",
    "import matplotlib.pyplot as plt\n",
    "import math\n",
    "import pandas as pd\n",
    "import numpy as np\n",
    "import datetime\n",
    "os.chdir(r\"C:\\Users\\macal\\OneDrive\\Documents\\OMSCS\\strategy_evaluation\")\n",
    "os.chdir(r\"..\")\n",
    "from util import get_data\n",
    "# from strategy_evaluation.indicators import BB_Pct, MACD, Stochastic_Oscillators, Golden_Cross, Death_Cross\n",
    "from strategy_evaluation.indicators import BB_Pct_Digital, MACD_Digital, Stochastic_Oscillators_Digital\n",
    "from strategy_evaluation.indicators import BB_Pct as bbpf, MACD as macdf, Stochastic_Oscillators as stocsf\n",
    "from strategy_evaluation.marketsimcode import compute_portvals, create_holdings\n",
    "os.chdir(r\"strategy_evaluation\")"
   ]
  },
  {
   "cell_type": "markdown",
   "metadata": {},
   "source": [
    "# Helper Functions"
   ]
  },
  {
   "cell_type": "code",
   "execution_count": 2,
   "metadata": {},
   "outputs": [],
   "source": [
    "def get_prices(dates, symbols):\n",
    "    prices = get_data(symbols, dates) # Need SPY to drop non-trading days\n",
    "    prices = prices.dropna(subset=[\"SPY\"])[symbols] # Just to be safe, drop nan values in SPY and only take required symboles\n",
    "    prices = prices.fillna(method=\"ffill\").fillna(method=\"bfill\") # Just to be safe, fill forward and backwards\n",
    "    prices[\"Cash\"] = 1.0\n",
    "    return prices"
   ]
  },
  {
   "cell_type": "code",
   "execution_count": 3,
   "metadata": {},
   "outputs": [],
   "source": [
    "def get_orders(prices,\n",
    "               window = 20,\n",
    "               lower_band = 0.03,\n",
    "               upper_band = 1.00,\n",
    "               fast = 12,\n",
    "               slow = 26,\n",
    "               signal_window = 9,\n",
    "               macd_thresh = 0.7,\n",
    "               k=14,\n",
    "               d=4,\n",
    "               overbought_thresh=0.75,\n",
    "               oversold_thresh=0.2):\n",
    "    symbol = prices.columns[0]\n",
    "    bb = BB_Pct_Digital(prices = prices.drop(columns=\"Cash\"), window = window, lower_band = lower_band, upper_band = upper_band)\n",
    "    macd = MACD_Digital(prices = prices.drop(columns=\"Cash\"), fast = fast, slow = slow, signal_window = signal_window, macd_thresh = macd_thresh)\n",
    "    stocs = Stochastic_Oscillators_Digital(prices = prices.drop(columns=\"Cash\"), k = k, d = d, overbought_thresh = overbought_thresh, oversold_thresh = oversold_thresh)\n",
    "    indicators = pd.concat([bb, macd, stocs],axis = 1)\n",
    "    signal = indicators.apply(lambda signals: most_common_signal(signals), axis = 1).to_frame()\n",
    "    signal = signal.rename(columns={0:symbol})\n",
    "    orders = signal[signal[symbol]!=0].copy()\n",
    "    return orders\n",
    "    "
   ]
  },
  {
   "cell_type": "code",
   "execution_count": 4,
   "metadata": {},
   "outputs": [],
   "source": [
    "def most_common_signal(row):\n",
    "    # Count the occurrences of each value in the row, ignoring zeros\n",
    "    counts = row[row != 0].value_counts()\n",
    "    if counts.empty:\n",
    "        return 0  # if all values are zero, return 0\n",
    "    if len(counts) > 1 and counts.iloc[0] == counts.iloc[1] and counts.index[0] == -counts.index[1]:\n",
    "        return 0  # if there's a tie between -1 and 1, return 0\n",
    "    return counts.idxmax()  # return the most common non-zero value"
   ]
  },
  {
   "cell_type": "code",
   "execution_count": 5,
   "metadata": {},
   "outputs": [],
   "source": [
    "def buy_action(share_count:int):\n",
    "    return 1000-share_count\n",
    "def sell_action(share_count:int):\n",
    "    return -1000 - share_count"
   ]
  },
  {
   "cell_type": "code",
   "execution_count": 6,
   "metadata": {},
   "outputs": [],
   "source": [
    "def create_trades(prices, orders, sv, commission, impact):\n",
    "    trades = pd.DataFrame(0.0, index=prices.index, columns=prices.columns)\n",
    "    trades.loc[trades.index.min(),\"Cash\"] = sv\n",
    "    symbol = prices.columns[0]\n",
    "    for date,action in orders.iterrows():\n",
    "        total_shares = trades.loc[:date,symbol].sum()\n",
    "        value = prices.loc[date][symbol]\n",
    "        if action[symbol] == 1:\n",
    "            shares = buy_action(total_shares)\n",
    "        if action[symbol] == -1:\n",
    "            shares = sell_action(total_shares)\n",
    "        cash = value * shares\n",
    "        deductions = (cash * impact) + commission\n",
    "        trades.loc[date,symbol] = trades.loc[date,symbol] + shares\n",
    "        trades.loc[date,\"Cash\"] = trades.loc[date,\"Cash\"] + (-cash - deductions)\n",
    "    return trades"
   ]
  },
  {
   "cell_type": "code",
   "execution_count": 7,
   "metadata": {},
   "outputs": [],
   "source": [
    "def create_port_vals(start_date, end_date, symbol, sv, commission, impact):\n",
    "    dates = pd.date_range(start_date, end_date)\n",
    "    symbols = [symbol]\n",
    "    prices = get_prices(dates,symbols)\n",
    "    \n",
    "    orders = get_orders(prices)\n",
    "    \n",
    "    trades = create_trades(prices, orders, sv, commission, impact)\n",
    "    \n",
    "    holdings = create_holdings(sv,trades)\n",
    "    holdings = holdings.copy()\n",
    "    values = prices * holdings\n",
    "    port_vals = values.sum(axis=1)\n",
    "    port_vals = port_vals/port_vals.iloc[0]\n",
    "    return (orders, trades, holdings, values, port_vals)"
   ]
  },
  {
   "cell_type": "code",
   "execution_count": 8,
   "metadata": {},
   "outputs": [],
   "source": [
    "def create_benchmark_port_vals(start_date, end_date, symbol, sv, commission, impact):\n",
    "    dates = pd.date_range(start_date, end_date)\n",
    "    symbols = [symbol]\n",
    "    prices = get_prices(dates,symbols)\n",
    "    \n",
    "    orders = prices.iloc[[0]].drop(columns=\"Cash\")\n",
    "    orders[symbol] = 1\n",
    "    \n",
    "    trades = create_trades(prices, orders, sv, commission, impact)\n",
    "    \n",
    "    holdings = create_holdings(sv,trades)\n",
    "    holdings = holdings.copy()\n",
    "    values = prices * holdings\n",
    "    port_vals = values.sum(axis=1)\n",
    "    port_vals = port_vals/port_vals.iloc[0]\n",
    "    return (orders, trades, holdings, values, port_vals)"
   ]
  },
  {
   "cell_type": "code",
   "execution_count": 9,
   "metadata": {},
   "outputs": [],
   "source": [
    "def create_chart(symbol, trades, port_vals, bench_vals):\n",
    "    buy_dates = [str(d.date()) for d in trades[trades[symbol]>0].index]\n",
    "    sell_dates = [str(d.date()) for d in trades[trades[symbol]<0].index]\n",
    "\n",
    "    fig, ax = plt.subplots()\n",
    "    port_vals.plot(ax=ax, label = \"Manual Strategy\", color = \"red\")\n",
    "    bench_vals.plot(ax=ax, label = \"Benchmark\", color = \"purple\")\n",
    "    ax.legend()\n",
    "    ax.set_title(\"Manual Strategy vs Benchmark\")\n",
    "    ax.set_xlabel(\"Date\")\n",
    "    ax.set_ylabel(\"Normalized Value\")\n",
    "    ax.grid(which=\"both\", axis=\"x\", linestyle=\":\", visible=True)\n",
    "\n",
    "    y_min,y_max = ax.get_ylim()\n",
    "    for line in buy_dates:\n",
    "        ax.vlines(x=line,ymin=y_min,ymax=y_max, colors=\"blue\",linestyles=\"dotted\")\n",
    "    for line in sell_dates:\n",
    "        ax.vlines(x=line,ymin=y_min,ymax=y_max, colors=\"black\",linestyles=\"dotted\")\n",
    "\n",
    "    plt.tight_layout()"
   ]
  },
  {
   "cell_type": "code",
   "execution_count": 10,
   "metadata": {},
   "outputs": [],
   "source": [
    "def get_cr(port_val):\n",
    "    \"\"\"\n",
    "    This function will return the cumulative return of a profile\n",
    "    According to the lectures:\n",
    "    Cumulative Return = (port_val[-1]/port_val[0]) - 1\n",
    "\n",
    "    :param port_val: A pandas DataFrame object that contains the portfolio value\n",
    "    :type port_val: pd.DataFrame\n",
    "    :return: A pandas DataFrame object that represents the cumulative return values of the portfolio\n",
    "    :rtype: pd.DataFrame\n",
    "    \"\"\"\n",
    "    cr = (port_val.iloc[-1] / port_val.iloc[0]) - 1\n",
    "    return cr\n",
    "\n",
    "def get_daily_rets(port_val):\n",
    "    \"\"\"\n",
    "    This function will return the average daily return of a profile\n",
    "    According to the lectures:\n",
    "    daily_rets = (df[1:]/df[:-1].values)-1\n",
    "    Or in other words, today's value / yesterday's value\n",
    "\n",
    "    :param port_val: A pandas DataFrame object that contains the portfolio value\n",
    "    :type port_val: pd.DataFrame\n",
    "    :return: A pandas DataFrame object that represents the daily return values of the portfolio\n",
    "    :rtype: pd.DataFrame\n",
    "    \"\"\"\n",
    "    daily_rets = (port_val / port_val.shift(1)) - 1\n",
    "    return daily_rets\n",
    "\n",
    "def get_adr(port_val):\n",
    "    \"\"\"\n",
    "    This function will return the average daily return of a profile\n",
    "    According to the lectures:\n",
    "    Average Daily Return = daily_rets.mean()\n",
    "\n",
    "    :param port_val: A pandas DataFrame object that contains the portfolio value\n",
    "    :type port_val: pd.DataFrame\n",
    "    :return: A float that is equal to the average values of the portfolio\n",
    "    :rtype: float\n",
    "    \"\"\"\n",
    "    daily_rets = get_daily_rets(port_val)\n",
    "    adr = daily_rets.mean()\n",
    "    return adr\n",
    "\n",
    "def get_sddr(port_val):\n",
    "    \"\"\"\n",
    "    This function will return the Standard Deviation of Daily Return of a profile\n",
    "    According to the lectures:\n",
    "    Standard Deviation of Daily Return = daily_rets.std()\n",
    "    Note: We need sample standard deviation (Thank you Andrew Rife)\n",
    "\n",
    "    :param port_val: A pandas DataFrame object that contains the portfolio value\n",
    "    :type port_val: pd.DataFrame\n",
    "    :return: A float that is equal to the standard deviation values of the portfolio\n",
    "    :rtype: float\n",
    "    \"\"\"\n",
    "    daily_rets = get_daily_rets(port_val)\n",
    "    sddr = np.std(daily_rets,ddof=1)\n",
    "    return sddr\n",
    "\n",
    "def get_sr(port_val, risk_free_rate = 0):\n",
    "    \"\"\"\n",
    "    This function will return the Sharpe Ratio of a profile\n",
    "\n",
    "    :param port_val: A pandas DataFrame object that contains the portfolio value\n",
    "    :type port_val: pd.DataFrame\n",
    "    :param risk_free_rate: A float that represents the risk-free rate used in the Sharpe Ratio Calculation\n",
    "    :type risk_free_rate: float\n",
    "    :return: The Sharpe Ratio of the portfolio provided\n",
    "    :rtype: float\n",
    "    \"\"\"\n",
    "    sr = ((get_adr(port_val)-risk_free_rate) / get_sddr(port_val))*math.sqrt(252)\n",
    "    return sr"
   ]
  },
  {
   "cell_type": "code",
   "execution_count": 11,
   "metadata": {},
   "outputs": [],
   "source": [
    "def create_table(in_port_vals, oos_port_vals, rfr=0):\n",
    "    # In Sample Results\n",
    "    cr = get_cr(in_port_vals)\n",
    "    adr = get_adr(in_port_vals)\n",
    "    sddr = get_sddr(in_port_vals)\n",
    "    sr = get_sr(in_port_vals, risk_free_rate = rfr)\n",
    "    # Out of Sample Results\n",
    "    oos_cr = get_cr(oos_port_vals)\n",
    "    oos_adr = get_adr(oos_port_vals)\n",
    "    oos_sddr = get_sddr(oos_port_vals)\n",
    "    oos_sr = get_sr(oos_port_vals, risk_free_rate = rfr)\n",
    "    \n",
    "    # Table Data Dictionary\n",
    "    data = {\n",
    "        \"IS\":[cr,adr,sddr,sr],\n",
    "        \"OOS\":[oos_cr,oos_adr,oos_sddr,oos_sr],\n",
    "    }\n",
    "    \n",
    "    # DataFrame\n",
    "    results = pd.DataFrame(data)\n",
    "    results.index = [\"CumRet\",\"AvgDR\",\"StdDR\",\"SR\"]\n",
    "    \n",
    "    return results"
   ]
  },
  {
   "cell_type": "markdown",
   "metadata": {},
   "source": [
    "# Initial Inputs"
   ]
  },
  {
   "cell_type": "code",
   "execution_count": 12,
   "metadata": {},
   "outputs": [],
   "source": [
    "symbol = \"JPM\"\n",
    "symbols = [symbol]\n",
    "# The in-sample period is from January 1, 2008, to December 31, 2009. \n",
    "sd = datetime.datetime(2008,1,1)\n",
    "ed = datetime.datetime(2009,12,31)\n",
    "dates = pd.date_range(sd, ed)\n",
    "\n",
    "# The out-of-sample/testing period is from January 1, 2010, to December 31, 2011. \n",
    "oos_sd = datetime.datetime(2010,1,1)\n",
    "oos_ed = datetime.datetime(2011,12,31)\n",
    "oos_dates = pd.date_range(oos_sd, oos_ed)\n",
    "\n",
    "impact=0.0\n",
    "commission=0.0\n",
    "sv=10_000"
   ]
  },
  {
   "cell_type": "markdown",
   "metadata": {},
   "source": [
    "# Function Trial In Sample"
   ]
  },
  {
   "cell_type": "code",
   "execution_count": 13,
   "metadata": {},
   "outputs": [],
   "source": [
    "prices = get_prices(dates, symbols)"
   ]
  },
  {
   "cell_type": "code",
   "execution_count": 14,
   "metadata": {},
   "outputs": [],
   "source": [
    "(in_orders, in_trades, in_holdings, in_values, in_port_vals) = create_port_vals(sd,ed,symbol,sv,commission,impact)\n",
    "(b_in_orders, b_in_trades, b_in_holdings, b_in_values, b_in_port_vals) = create_benchmark_port_vals(sd,ed,symbol,sv,commission,impact)"
   ]
  },
  {
   "cell_type": "code",
   "execution_count": 15,
   "metadata": {},
   "outputs": [
    {
     "data": {
      "image/png": "[encoded data removed]",
      "text/plain": [
       "<Figure size 432x288 with 1 Axes>"
      ]
     },
     "metadata": {
      "needs_background": "light"
     },
     "output_type": "display_data"
    }
   ],
   "source": [
    "create_chart(symbol, in_trades, in_port_vals, b_in_port_vals)"
   ]
  },
  {
   "cell_type": "markdown",
   "metadata": {},
   "source": [
    "# Functional Trial Out of Sample"
   ]
  },
  {
   "cell_type": "code",
   "execution_count": 16,
   "metadata": {},
   "outputs": [
    {
     "data": {
      "image/png": "[encoded data removed]",
      "text/plain": [
       "<Figure size 432x288 with 1 Axes>"
      ]
     },
     "metadata": {
      "needs_background": "light"
     },
     "output_type": "display_data"
    }
   ],
   "source": [
    "(oos_orders, oos_trades, oos_holdings, oos_values, oos_port_vals) = create_port_vals(oos_sd,oos_ed,symbol,sv,commission,impact)\n",
    "(b_oos_orders, b_oos_trades, b_oos_holdings, b_oos_values, b_oos_port_vals) = create_benchmark_port_vals(oos_sd,oos_ed,symbol,sv,commission,impact)\n",
    "create_chart(symbol, oos_trades, oos_port_vals, b_oos_port_vals)"
   ]
  },
  {
   "cell_type": "code",
   "execution_count": 17,
   "metadata": {},
   "outputs": [
    {
     "data": {
      "text/html": [
       "<div>\n",
       "<style scoped>\n",
       "    .dataframe tbody tr th:only-of-type {\n",
       "        vertical-align: middle;\n",
       "    }\n",
       "\n",
       "    .dataframe tbody tr th {\n",
       "        vertical-align: top;\n",
       "    }\n",
       "\n",
       "    .dataframe thead th {\n",
       "        text-align: right;\n",
       "    }\n",
       "</style>\n",
       "<table border=\"1\" class=\"dataframe\">\n",
       "  <thead>\n",
       "    <tr style=\"text-align: right;\">\n",
       "      <th></th>\n",
       "      <th>IS</th>\n",
       "      <th>OOS</th>\n",
       "    </tr>\n",
       "  </thead>\n",
       "  <tbody>\n",
       "    <tr>\n",
       "      <th>CumRet</th>\n",
       "      <td>2.930500</td>\n",
       "      <td>0.672500</td>\n",
       "    </tr>\n",
       "    <tr>\n",
       "      <th>AvgDR</th>\n",
       "      <td>0.003450</td>\n",
       "      <td>0.001523</td>\n",
       "    </tr>\n",
       "    <tr>\n",
       "      <th>StdDR</th>\n",
       "      <td>0.038724</td>\n",
       "      <td>0.031806</td>\n",
       "    </tr>\n",
       "    <tr>\n",
       "      <th>SR</th>\n",
       "      <td>1.414423</td>\n",
       "      <td>0.760256</td>\n",
       "    </tr>\n",
       "  </tbody>\n",
       "</table>\n",
       "</div>"
      ],
      "text/plain": [
       "              IS       OOS\n",
       "CumRet  2.930500  0.672500\n",
       "AvgDR   0.003450  0.001523\n",
       "StdDR   0.038724  0.031806\n",
       "SR      1.414423  0.760256"
      ]
     },
     "execution_count": 17,
     "metadata": {},
     "output_type": "execute_result"
    }
   ],
   "source": [
    "create_table(in_port_vals, oos_port_vals, rfr=0)"
   ]
  },
  {
   "cell_type": "markdown",
   "metadata": {},
   "source": [
    "# Test Stuff"
   ]
  },
  {
   "cell_type": "code",
   "execution_count": 18,
   "metadata": {},
   "outputs": [],
   "source": [
    "prices = get_data(symbols, dates) # Need SPY to drop non-trading days\n",
    "prices = prices.dropna(subset=[\"SPY\"])[symbols] # Just to be safe, drop nan values in SPY and only take required symboles\n",
    "prices = prices.fillna(method=\"ffill\").fillna(method=\"bfill\") # Just to be safe, fill forward and backwards\n",
    "prices[\"Cash\"] = 1.0\n"
   ]
  },
  {
   "cell_type": "code",
   "execution_count": 19,
   "metadata": {},
   "outputs": [],
   "source": [
    "bb = BB_Pct_Digital(prices = prices.drop(columns=\"Cash\"), window = 20, lower_band = 0.03, upper_band = 1.0)\n",
    "macd = MACD_Digital(prices = prices.drop(columns=\"Cash\"), fast = 12, slow = 26, signal_window = 9, macd_thresh = 0.7)\n",
    "stocs = Stochastic_Oscillators_Digital(prices = prices.drop(columns=\"Cash\"), k=14, d=4, overbought_thresh=0.75, oversold_thresh=0.2)\n",
    "indicators = pd.concat([bb, macd, stocs],axis = 1)"
   ]
  },
  {
   "cell_type": "code",
   "execution_count": 20,
   "metadata": {},
   "outputs": [],
   "source": [
    "signal = indicators.apply(lambda signals: most_common_signal(signals), axis = 1).to_frame()\n",
    "signal = signal.rename(columns={0:symbol})"
   ]
  },
  {
   "cell_type": "code",
   "execution_count": 21,
   "metadata": {},
   "outputs": [],
   "source": [
    "orders = signal[signal[symbol]!=0].copy()"
   ]
  },
  {
   "cell_type": "code",
   "execution_count": 22,
   "metadata": {},
   "outputs": [],
   "source": [
    "trades = pd.DataFrame(0.0, index=prices.index, columns=prices.columns)\n",
    "symbol = prices.columns[0]\n",
    "trades = prices.copy()\n",
    "trades[symbol]=0\n",
    "trades[\"Cash\"]=0\n",
    "for date,action in orders.iterrows():\n",
    "    total_shares = trades.loc[:date,symbol].sum()\n",
    "    value = prices.loc[date][symbol]\n",
    "    if action[symbol] == 1:\n",
    "        shares = buy_action(total_shares)\n",
    "    if action[symbol] == -1:\n",
    "        shares = sell_action(total_shares)\n",
    "    cash = value * shares\n",
    "    deductions = (cash * impact) + commission\n",
    "    trades.loc[date,symbol]=shares\n",
    "    trades.loc[date,\"Cash\"]= -cash - deductions\n",
    "trades.loc[trades.index.min(),\"Cash\"] = sv"
   ]
  },
  {
   "cell_type": "code",
   "execution_count": 23,
   "metadata": {},
   "outputs": [
    {
     "name": "stderr",
     "output_type": "stream",
     "text": [
      "c:\\Users\\macal\\miniconda3\\envs\\ml4t\\lib\\site-packages\\pandas\\core\\generic.py:5096: SettingWithCopyWarning: \n",
      "A value is trying to be set on a copy of a slice from a DataFrame\n",
      "\n",
      "See the caveats in the documentation: http://pandas.pydata.org/pandas-docs/stable/indexing.html#indexing-view-versus-copy\n",
      "  self[name] = value\n"
     ]
    }
   ],
   "source": [
    "holdings = create_holdings(sv,trades)\n",
    "holdings = holdings.copy()\n",
    "values = prices * holdings\n",
    "port_vals = values.sum(axis=1)"
   ]
  },
  {
   "cell_type": "markdown",
   "metadata": {},
   "source": [
    "# Strategy Stuff"
   ]
  },
  {
   "cell_type": "code",
   "execution_count": 24,
   "metadata": {},
   "outputs": [],
   "source": [
    "prices = prices.drop(columns=\"Cash\")"
   ]
  },
  {
   "cell_type": "code",
   "execution_count": 25,
   "metadata": {},
   "outputs": [],
   "source": [
    "rets = prices\n",
    "rets = rets.shift(-5)/rets"
   ]
  },
  {
   "cell_type": "code",
   "execution_count": 26,
   "metadata": {},
   "outputs": [],
   "source": [
    "thresh = 0.08\n",
    "ybuy=1 + thresh\n",
    "ysell = 1 - thresh\n",
    "\n",
    "conditions = [\n",
    "    rets[symbol] > ybuy,\n",
    "    rets[symbol] < ysell\n",
    "]\n",
    "\n",
    "# Define choices\n",
    "choices = [1, -1]\n",
    "\n",
    "# Create the new column 'result'\n",
    "rets['result'] = np.select(conditions, choices, default=0)"
   ]
  },
  {
   "cell_type": "code",
   "execution_count": 27,
   "metadata": {},
   "outputs": [
    {
     "name": "stderr",
     "output_type": "stream",
     "text": [
      "c:\\Users\\macal\\OneDrive\\Documents\\OMSCS\\strategy_evaluation\\StrategyLearner.py:253: RuntimeWarning: invalid value encountered in greater\n",
      "  rets > (ybuy+impact),\n",
      "c:\\Users\\macal\\OneDrive\\Documents\\OMSCS\\strategy_evaluation\\StrategyLearner.py:254: RuntimeWarning: invalid value encountered in less\n",
      "  rets < (ysell-impact)\n"
     ]
    },
    {
     "data": {
      "text/plain": [
       "2.6053640820801065"
      ]
     },
     "execution_count": 27,
     "metadata": {},
     "output_type": "execute_result"
    }
   ],
   "source": [
    "np.random.seed(903687444)\n",
    "from StrategyLearner import StrategyLearner\n",
    "\n",
    "in_sd = datetime.datetime(2008,1,1)\n",
    "in_ed = datetime.datetime(2009,12,31)\n",
    "in_dates = pd.date_range(in_sd, in_ed)\n",
    "\n",
    "Strat = StrategyLearner(impact=impact,commission=commission)\n",
    "Strat.add_evidence(symbol = symbol, sd = in_sd, ed = in_ed, sv = sv, N = 5, ybuy=1.02, ysell=0.98)\n",
    "in_trades = Strat.testPolicy_w_cash(symbol = symbol, sd = in_sd, ed = in_ed, sv = sv)\n",
    "in_prices = StrategyLearner.get_prices(in_dates, symbols)\n",
    "in_port_vals = StrategyLearner.create_port_vals(in_prices, in_trades, sv)\n",
    "get_sr(in_port_vals)"
   ]
  },
  {
   "cell_type": "code",
   "execution_count": 34,
   "metadata": {},
   "outputs": [
    {
     "name": "stdout",
     "output_type": "stream",
     "text": [
      "Optimized Parameters: [5.         1.01999947 0.97999573]\n",
      "Maximized Sharpe Ratio: 1.9485261138754604\n"
     ]
    }
   ],
   "source": [
    "np.random.seed(903687444)\n",
    "from scipy.optimize import minimize\n",
    "\n",
    "def objective(params):\n",
    "    N, ybuy, ysell = int(round(params[0])), params[1], params[2]\n",
    "    Strat = StrategyLearner(impact=impact, commission=commission)\n",
    "    Strat.add_evidence(symbol=symbol, sd=in_sd, ed=in_ed, sv=sv, N=N, ybuy=ybuy, ysell=ysell)\n",
    "    in_trades = Strat.testPolicy_w_cash(symbol=symbol, sd=in_sd, ed=in_ed, sv=sv)\n",
    "    in_prices = StrategyLearner.get_prices(in_dates, symbols)\n",
    "    in_port_vals = StrategyLearner.create_port_vals(in_prices, in_trades, sv)\n",
    "    sr = get_sr(in_port_vals)\n",
    "    return -sr\n",
    "\n",
    "# Bounds for each parameter\n",
    "bounds = [(5, 20), (1.01, 1.1), (0.9, 0.99)]\n",
    "\n",
    "# Initial guess for the parameters\n",
    "initial_guess = [5, 1.02, 0.98]\n",
    "\n",
    "# Run the minimization\n",
    "result = minimize(objective, initial_guess, method='L-BFGS-B', bounds=bounds)\n",
    "\n",
    "print('Optimized Parameters:', result.x)\n",
    "print('Maximized Sharpe Ratio:', -result.fun)\n"
   ]
  },
  {
   "cell_type": "code",
   "execution_count": 35,
   "metadata": {},
   "outputs": [
    {
     "name": "stdout",
     "output_type": "stream",
     "text": [
      "Optimized Parameters: [5.   1.02 0.98]\n",
      "Maximized Sharpe Ratio: 2.701638840464073\n"
     ]
    }
   ],
   "source": [
    "np.random.seed(903687444)\n",
    "\n",
    "def objective(params):\n",
    "    N, ybuy, ysell = int(round(params[0])), params[1], params[2]\n",
    "    Strat = StrategyLearner(impact=impact, commission=commission)\n",
    "    Strat.add_evidence(symbol=symbol, sd=in_sd, ed=in_ed, sv=sv, N=N, ybuy=ybuy, ysell=ysell)\n",
    "    in_trades = Strat.testPolicy_w_cash(symbol=symbol, sd=in_sd, ed=in_ed, sv=sv)\n",
    "    in_prices = StrategyLearner.get_prices(in_dates, symbols)\n",
    "    in_port_vals = StrategyLearner.create_port_vals(in_prices, in_trades, sv)\n",
    "    sr = get_sr(in_port_vals)\n",
    "    return -sr\n",
    "\n",
    "# Bounds for each parameter\n",
    "bounds = [(5, 20), (1.01, 1.1), (0.9, 0.99)]\n",
    "\n",
    "# Initial guess for the parameters\n",
    "initial_guess = [5, 1.02, 0.98]\n",
    "\n",
    "# Run the minimization\n",
    "result = minimize(objective, initial_guess, method='TNC', bounds=bounds)\n",
    "\n",
    "print('Optimized Parameters:', result.x)\n",
    "print('Maximized Sharpe Ratio:', -result.fun)\n"
   ]
  },
  {
   "cell_type": "code",
   "execution_count": 36,
   "metadata": {},
   "outputs": [
    {
     "name": "stderr",
     "output_type": "stream",
     "text": [
      "c:\\Users\\macal\\miniconda3\\envs\\ml4t\\lib\\site-packages\\ipykernel_launcher.py:72: RuntimeWarning: invalid value encountered in double_scalars\n"
     ]
    },
    {
     "ename": "KeyboardInterrupt",
     "evalue": "",
     "output_type": "error",
     "traceback": [
      "\u001b[1;31m---------------------------------------------------------------------------\u001b[0m",
      "\u001b[1;31mKeyboardInterrupt\u001b[0m                         Traceback (most recent call last)",
      "\u001b[1;32m<ipython-input-36-27cd487c6b35>\u001b[0m in \u001b[0;36m<module>\u001b[1;34m\u001b[0m\n\u001b[0;32m     20\u001b[0m \u001b[1;33m\u001b[0m\u001b[0m\n\u001b[0;32m     21\u001b[0m \u001b[1;31m# Run differential evolution\u001b[0m\u001b[1;33m\u001b[0m\u001b[1;33m\u001b[0m\u001b[0m\n\u001b[1;32m---> 22\u001b[1;33m \u001b[0mresult\u001b[0m \u001b[1;33m=\u001b[0m \u001b[0mdifferential_evolution\u001b[0m\u001b[1;33m(\u001b[0m\u001b[0mobjective\u001b[0m\u001b[1;33m,\u001b[0m \u001b[0mbounds\u001b[0m\u001b[1;33m,\u001b[0m \u001b[0mstrategy\u001b[0m\u001b[1;33m=\u001b[0m\u001b[1;34m'best1bin'\u001b[0m\u001b[1;33m,\u001b[0m \u001b[0mmaxiter\u001b[0m\u001b[1;33m=\u001b[0m\u001b[1;36m100\u001b[0m\u001b[1;33m,\u001b[0m \u001b[0mpopsize\u001b[0m\u001b[1;33m=\u001b[0m\u001b[1;36m15\u001b[0m\u001b[1;33m,\u001b[0m \u001b[0mtol\u001b[0m\u001b[1;33m=\u001b[0m\u001b[1;36m0.01\u001b[0m\u001b[1;33m,\u001b[0m \u001b[0mmutation\u001b[0m\u001b[1;33m=\u001b[0m\u001b[1;33m(\u001b[0m\u001b[1;36m0.5\u001b[0m\u001b[1;33m,\u001b[0m \u001b[1;36m1.5\u001b[0m\u001b[1;33m)\u001b[0m\u001b[1;33m,\u001b[0m \u001b[0mrecombination\u001b[0m\u001b[1;33m=\u001b[0m\u001b[1;36m0.7\u001b[0m\u001b[1;33m)\u001b[0m\u001b[1;33m\u001b[0m\u001b[0m\n\u001b[0m\u001b[0;32m     23\u001b[0m \u001b[1;33m\u001b[0m\u001b[0m\n\u001b[0;32m     24\u001b[0m \u001b[0mprint\u001b[0m\u001b[1;33m(\u001b[0m\u001b[1;34m'Optimized Parameters:'\u001b[0m\u001b[1;33m,\u001b[0m \u001b[0mresult\u001b[0m\u001b[1;33m.\u001b[0m\u001b[0mx\u001b[0m\u001b[1;33m)\u001b[0m\u001b[1;33m\u001b[0m\u001b[0m\n",
      "\u001b[1;32mc:\\Users\\macal\\miniconda3\\envs\\ml4t\\lib\\site-packages\\scipy\\optimize\\_differentialevolution.py\u001b[0m in \u001b[0;36mdifferential_evolution\u001b[1;34m(func, bounds, args, strategy, maxiter, popsize, tol, mutation, recombination, seed, callback, disp, polish, init, atol, updating, workers)\u001b[0m\n\u001b[0;32m    270\u001b[0m                                      \u001b[0mupdating\u001b[0m\u001b[1;33m=\u001b[0m\u001b[0mupdating\u001b[0m\u001b[1;33m,\u001b[0m\u001b[1;33m\u001b[0m\u001b[0m\n\u001b[0;32m    271\u001b[0m                                      workers=workers) as solver:\n\u001b[1;32m--> 272\u001b[1;33m         \u001b[0mret\u001b[0m \u001b[1;33m=\u001b[0m \u001b[0msolver\u001b[0m\u001b[1;33m.\u001b[0m\u001b[0msolve\u001b[0m\u001b[1;33m(\u001b[0m\u001b[1;33m)\u001b[0m\u001b[1;33m\u001b[0m\u001b[0m\n\u001b[0m\u001b[0;32m    273\u001b[0m \u001b[1;33m\u001b[0m\u001b[0m\n\u001b[0;32m    274\u001b[0m     \u001b[1;32mreturn\u001b[0m \u001b[0mret\u001b[0m\u001b[1;33m\u001b[0m\u001b[0m\n",
      "\u001b[1;32mc:\\Users\\macal\\miniconda3\\envs\\ml4t\\lib\\site-packages\\scipy\\optimize\\_differentialevolution.py\u001b[0m in \u001b[0;36msolve\u001b[1;34m(self)\u001b[0m\n\u001b[0;32m    679\u001b[0m             \u001b[1;31m# evolve the population by a generation\u001b[0m\u001b[1;33m\u001b[0m\u001b[1;33m\u001b[0m\u001b[0m\n\u001b[0;32m    680\u001b[0m             \u001b[1;32mtry\u001b[0m\u001b[1;33m:\u001b[0m\u001b[1;33m\u001b[0m\u001b[0m\n\u001b[1;32m--> 681\u001b[1;33m                 \u001b[0mnext\u001b[0m\u001b[1;33m(\u001b[0m\u001b[0mself\u001b[0m\u001b[1;33m)\u001b[0m\u001b[1;33m\u001b[0m\u001b[0m\n\u001b[0m\u001b[0;32m    682\u001b[0m             \u001b[1;32mexcept\u001b[0m \u001b[0mStopIteration\u001b[0m\u001b[1;33m:\u001b[0m\u001b[1;33m\u001b[0m\u001b[0m\n\u001b[0;32m    683\u001b[0m                 \u001b[0mwarning_flag\u001b[0m \u001b[1;33m=\u001b[0m \u001b[1;32mTrue\u001b[0m\u001b[1;33m\u001b[0m\u001b[0m\n",
      "\u001b[1;32mc:\\Users\\macal\\miniconda3\\envs\\ml4t\\lib\\site-packages\\scipy\\optimize\\_differentialevolution.py\u001b[0m in \u001b[0;36m__next__\u001b[1;34m(self)\u001b[0m\n\u001b[0;32m    846\u001b[0m \u001b[1;33m\u001b[0m\u001b[0m\n\u001b[0;32m    847\u001b[0m                 \u001b[1;31m# determine the energy of the objective function\u001b[0m\u001b[1;33m\u001b[0m\u001b[1;33m\u001b[0m\u001b[0m\n\u001b[1;32m--> 848\u001b[1;33m                 \u001b[0menergy\u001b[0m \u001b[1;33m=\u001b[0m \u001b[0mself\u001b[0m\u001b[1;33m.\u001b[0m\u001b[0mfunc\u001b[0m\u001b[1;33m(\u001b[0m\u001b[0mparameters\u001b[0m\u001b[1;33m)\u001b[0m\u001b[1;33m\u001b[0m\u001b[0m\n\u001b[0m\u001b[0;32m    849\u001b[0m                 \u001b[0mself\u001b[0m\u001b[1;33m.\u001b[0m\u001b[0m_nfev\u001b[0m \u001b[1;33m+=\u001b[0m \u001b[1;36m1\u001b[0m\u001b[1;33m\u001b[0m\u001b[0m\n\u001b[0;32m    850\u001b[0m \u001b[1;33m\u001b[0m\u001b[0m\n",
      "\u001b[1;32mc:\\Users\\macal\\miniconda3\\envs\\ml4t\\lib\\site-packages\\scipy\\optimize\\_differentialevolution.py\u001b[0m in \u001b[0;36m__call__\u001b[1;34m(self, x)\u001b[0m\n\u001b[0;32m   1010\u001b[0m \u001b[1;33m\u001b[0m\u001b[0m\n\u001b[0;32m   1011\u001b[0m     \u001b[1;32mdef\u001b[0m \u001b[0m__call__\u001b[0m\u001b[1;33m(\u001b[0m\u001b[0mself\u001b[0m\u001b[1;33m,\u001b[0m \u001b[0mx\u001b[0m\u001b[1;33m)\u001b[0m\u001b[1;33m:\u001b[0m\u001b[1;33m\u001b[0m\u001b[0m\n\u001b[1;32m-> 1012\u001b[1;33m         \u001b[1;32mreturn\u001b[0m \u001b[0mself\u001b[0m\u001b[1;33m.\u001b[0m\u001b[0mf\u001b[0m\u001b[1;33m(\u001b[0m\u001b[0mx\u001b[0m\u001b[1;33m,\u001b[0m \u001b[1;33m*\u001b[0m\u001b[0mself\u001b[0m\u001b[1;33m.\u001b[0m\u001b[0margs\u001b[0m\u001b[1;33m)\u001b[0m\u001b[1;33m\u001b[0m\u001b[0m\n\u001b[0m",
      "\u001b[1;32m<ipython-input-36-27cd487c6b35>\u001b[0m in \u001b[0;36mobjective\u001b[1;34m(params)\u001b[0m\n\u001b[0;32m      9\u001b[0m     \u001b[0mStrat\u001b[0m \u001b[1;33m=\u001b[0m \u001b[0mStrategyLearner\u001b[0m\u001b[1;33m(\u001b[0m\u001b[0mimpact\u001b[0m\u001b[1;33m=\u001b[0m\u001b[0mimpact\u001b[0m\u001b[1;33m,\u001b[0m \u001b[0mcommission\u001b[0m\u001b[1;33m=\u001b[0m\u001b[0mcommission\u001b[0m\u001b[1;33m)\u001b[0m\u001b[1;33m\u001b[0m\u001b[0m\n\u001b[0;32m     10\u001b[0m     \u001b[0mStrat\u001b[0m\u001b[1;33m.\u001b[0m\u001b[0madd_evidence\u001b[0m\u001b[1;33m(\u001b[0m\u001b[0msymbol\u001b[0m\u001b[1;33m=\u001b[0m\u001b[0msymbol\u001b[0m\u001b[1;33m,\u001b[0m \u001b[0msd\u001b[0m\u001b[1;33m=\u001b[0m\u001b[0min_sd\u001b[0m\u001b[1;33m,\u001b[0m \u001b[0med\u001b[0m\u001b[1;33m=\u001b[0m\u001b[0min_ed\u001b[0m\u001b[1;33m,\u001b[0m \u001b[0msv\u001b[0m\u001b[1;33m=\u001b[0m\u001b[0msv\u001b[0m\u001b[1;33m,\u001b[0m \u001b[0mN\u001b[0m\u001b[1;33m=\u001b[0m\u001b[0mN\u001b[0m\u001b[1;33m,\u001b[0m \u001b[0mybuy\u001b[0m\u001b[1;33m=\u001b[0m\u001b[0mybuy\u001b[0m\u001b[1;33m,\u001b[0m \u001b[0mysell\u001b[0m\u001b[1;33m=\u001b[0m\u001b[0mysell\u001b[0m\u001b[1;33m)\u001b[0m\u001b[1;33m\u001b[0m\u001b[0m\n\u001b[1;32m---> 11\u001b[1;33m     \u001b[0min_trades\u001b[0m \u001b[1;33m=\u001b[0m \u001b[0mStrat\u001b[0m\u001b[1;33m.\u001b[0m\u001b[0mtestPolicy_w_cash\u001b[0m\u001b[1;33m(\u001b[0m\u001b[0msymbol\u001b[0m\u001b[1;33m=\u001b[0m\u001b[0msymbol\u001b[0m\u001b[1;33m,\u001b[0m \u001b[0msd\u001b[0m\u001b[1;33m=\u001b[0m\u001b[0min_sd\u001b[0m\u001b[1;33m,\u001b[0m \u001b[0med\u001b[0m\u001b[1;33m=\u001b[0m\u001b[0min_ed\u001b[0m\u001b[1;33m,\u001b[0m \u001b[0msv\u001b[0m\u001b[1;33m=\u001b[0m\u001b[0msv\u001b[0m\u001b[1;33m)\u001b[0m\u001b[1;33m\u001b[0m\u001b[0m\n\u001b[0m\u001b[0;32m     12\u001b[0m     \u001b[0min_prices\u001b[0m \u001b[1;33m=\u001b[0m \u001b[0mStrategyLearner\u001b[0m\u001b[1;33m.\u001b[0m\u001b[0mget_prices\u001b[0m\u001b[1;33m(\u001b[0m\u001b[0min_dates\u001b[0m\u001b[1;33m,\u001b[0m \u001b[0msymbols\u001b[0m\u001b[1;33m)\u001b[0m\u001b[1;33m\u001b[0m\u001b[0m\n\u001b[0;32m     13\u001b[0m     \u001b[0min_port_vals\u001b[0m \u001b[1;33m=\u001b[0m \u001b[0mStrategyLearner\u001b[0m\u001b[1;33m.\u001b[0m\u001b[0mcreate_port_vals\u001b[0m\u001b[1;33m(\u001b[0m\u001b[0min_prices\u001b[0m\u001b[1;33m,\u001b[0m \u001b[0min_trades\u001b[0m\u001b[1;33m,\u001b[0m \u001b[0msv\u001b[0m\u001b[1;33m)\u001b[0m\u001b[1;33m\u001b[0m\u001b[0m\n",
      "\u001b[1;32mc:\\Users\\macal\\OneDrive\\Documents\\OMSCS\\strategy_evaluation\\StrategyLearner.py\u001b[0m in \u001b[0;36mtestPolicy_w_cash\u001b[1;34m(self, symbol, sd, ed, sv)\u001b[0m\n\u001b[0;32m    204\u001b[0m         \u001b[0msymbols\u001b[0m \u001b[1;33m=\u001b[0m \u001b[1;33m[\u001b[0m\u001b[0msymbol\u001b[0m\u001b[1;33m]\u001b[0m\u001b[1;33m\u001b[0m\u001b[0m\n\u001b[0;32m    205\u001b[0m         \u001b[0mdates\u001b[0m \u001b[1;33m=\u001b[0m \u001b[0mpd\u001b[0m\u001b[1;33m.\u001b[0m\u001b[0mdate_range\u001b[0m\u001b[1;33m(\u001b[0m\u001b[0msd\u001b[0m\u001b[1;33m,\u001b[0m \u001b[0med\u001b[0m\u001b[1;33m)\u001b[0m\u001b[1;33m\u001b[0m\u001b[0m\n\u001b[1;32m--> 206\u001b[1;33m         \u001b[0mprices\u001b[0m \u001b[1;33m=\u001b[0m \u001b[0mStrategyLearner\u001b[0m\u001b[1;33m.\u001b[0m\u001b[0mget_prices\u001b[0m\u001b[1;33m(\u001b[0m\u001b[0mdates\u001b[0m\u001b[1;33m,\u001b[0m\u001b[0msymbols\u001b[0m\u001b[1;33m)\u001b[0m\u001b[1;33m\u001b[0m\u001b[0m\n\u001b[0m\u001b[0;32m    207\u001b[0m         \u001b[0mtest_X\u001b[0m \u001b[1;33m=\u001b[0m \u001b[0mnp\u001b[0m\u001b[1;33m.\u001b[0m\u001b[0marray\u001b[0m\u001b[1;33m(\u001b[0m\u001b[0mStrategyLearner\u001b[0m\u001b[1;33m.\u001b[0m\u001b[0mget_indicators\u001b[0m\u001b[1;33m(\u001b[0m\u001b[0mprices\u001b[0m \u001b[1;33m=\u001b[0m \u001b[0mprices\u001b[0m\u001b[1;33m,\u001b[0m \u001b[0msymbol\u001b[0m \u001b[1;33m=\u001b[0m \u001b[0msymbol\u001b[0m\u001b[1;33m)\u001b[0m\u001b[1;33m)\u001b[0m\u001b[1;33m\u001b[0m\u001b[0m\n\u001b[0;32m    208\u001b[0m         \u001b[0mpred_y\u001b[0m \u001b[1;33m=\u001b[0m \u001b[0mself\u001b[0m\u001b[1;33m.\u001b[0m\u001b[0mlearner\u001b[0m\u001b[1;33m.\u001b[0m\u001b[0mquery\u001b[0m\u001b[1;33m(\u001b[0m\u001b[0mtest_X\u001b[0m\u001b[1;33m)\u001b[0m\u001b[1;33m[\u001b[0m\u001b[1;36m0\u001b[0m\u001b[1;33m]\u001b[0m\u001b[1;33m\u001b[0m\u001b[0m\n",
      "\u001b[1;32mc:\\Users\\macal\\OneDrive\\Documents\\OMSCS\\strategy_evaluation\\StrategyLearner.py\u001b[0m in \u001b[0;36mget_indicators\u001b[1;34m(prices, symbol, window, fast, slow, signal_window, k, d)\u001b[0m\n\u001b[0;32m    227\u001b[0m         \u001b[0mbbp\u001b[0m \u001b[1;33m=\u001b[0m \u001b[0mbbp\u001b[0m\u001b[1;33m.\u001b[0m\u001b[0mrename\u001b[0m\u001b[1;33m(\u001b[0m\u001b[0mcolumns\u001b[0m\u001b[1;33m=\u001b[0m\u001b[1;33m{\u001b[0m\u001b[0msymbol\u001b[0m\u001b[1;33m:\u001b[0m\u001b[1;34m\"bbp\"\u001b[0m\u001b[1;33m}\u001b[0m\u001b[1;33m)\u001b[0m\u001b[1;33m\u001b[0m\u001b[0m\n\u001b[0;32m    228\u001b[0m         \u001b[0mind_0\u001b[0m \u001b[1;33m=\u001b[0m \u001b[0mbbp\u001b[0m\u001b[1;33m\u001b[0m\u001b[0m\n\u001b[1;32m--> 229\u001b[1;33m \u001b[1;33m\u001b[0m\u001b[0m\n\u001b[0m\u001b[0;32m    230\u001b[0m         \u001b[0mmacd\u001b[0m\u001b[1;33m,\u001b[0m \u001b[0msignal\u001b[0m\u001b[1;33m,\u001b[0m \u001b[0m_\u001b[0m \u001b[1;33m=\u001b[0m \u001b[0mmacdf\u001b[0m\u001b[1;33m(\u001b[0m\u001b[0mprices\u001b[0m \u001b[1;33m=\u001b[0m \u001b[0mprices\u001b[0m\u001b[1;33m,\u001b[0m \u001b[0mfast\u001b[0m \u001b[1;33m=\u001b[0m \u001b[0mfast\u001b[0m\u001b[1;33m,\u001b[0m \u001b[0mslow\u001b[0m \u001b[1;33m=\u001b[0m \u001b[0mslow\u001b[0m\u001b[1;33m,\u001b[0m \u001b[0msignal_window\u001b[0m \u001b[1;33m=\u001b[0m \u001b[0msignal_window\u001b[0m\u001b[1;33m)\u001b[0m\u001b[1;33m\u001b[0m\u001b[0m\n\u001b[0;32m    231\u001b[0m         \u001b[0mmacd\u001b[0m \u001b[1;33m=\u001b[0m \u001b[0mmacd\u001b[0m\u001b[1;33m.\u001b[0m\u001b[0mloc\u001b[0m\u001b[1;33m[\u001b[0m\u001b[0mprices\u001b[0m\u001b[1;33m.\u001b[0m\u001b[0mindex\u001b[0m\u001b[1;33m.\u001b[0m\u001b[0mmin\u001b[0m\u001b[1;33m(\u001b[0m\u001b[1;33m)\u001b[0m\u001b[1;33m:\u001b[0m\u001b[1;33m]\u001b[0m\u001b[1;33m\u001b[0m\u001b[0m\n",
      "\u001b[1;32mc:\\Users\\macal\\OneDrive\\Documents\\OMSCS\\strategy_evaluation\\indicators.py\u001b[0m in \u001b[0;36mMACD\u001b[1;34m(prices, fast, slow, signal_window)\u001b[0m\n\u001b[0;32m    174\u001b[0m     \"\"\"\n\u001b[0;32m    175\u001b[0m     \u001b[0mema_fast\u001b[0m \u001b[1;33m=\u001b[0m \u001b[0mEMA\u001b[0m\u001b[1;33m(\u001b[0m\u001b[0mprices\u001b[0m\u001b[1;33m=\u001b[0m\u001b[0mprices\u001b[0m\u001b[1;33m,\u001b[0m \u001b[0mwindow\u001b[0m\u001b[1;33m=\u001b[0m\u001b[0mfast\u001b[0m\u001b[1;33m)\u001b[0m\u001b[1;33m\u001b[0m\u001b[0m\n\u001b[1;32m--> 176\u001b[1;33m     \u001b[0mema_slow\u001b[0m \u001b[1;33m=\u001b[0m \u001b[0mEMA\u001b[0m\u001b[1;33m(\u001b[0m\u001b[0mprices\u001b[0m\u001b[1;33m=\u001b[0m\u001b[0mprices\u001b[0m\u001b[1;33m,\u001b[0m \u001b[0mwindow\u001b[0m\u001b[1;33m=\u001b[0m\u001b[0mslow\u001b[0m\u001b[1;33m)\u001b[0m\u001b[1;33m\u001b[0m\u001b[0m\n\u001b[0m\u001b[0;32m    177\u001b[0m     \u001b[0mmacd\u001b[0m \u001b[1;33m=\u001b[0m \u001b[0mema_fast\u001b[0m \u001b[1;33m-\u001b[0m \u001b[0mema_slow\u001b[0m\u001b[1;33m\u001b[0m\u001b[0m\n\u001b[0;32m    178\u001b[0m     \u001b[0msignal\u001b[0m \u001b[1;33m=\u001b[0m \u001b[0mmacd\u001b[0m\u001b[1;33m.\u001b[0m\u001b[0mewm\u001b[0m\u001b[1;33m(\u001b[0m\u001b[0mspan\u001b[0m\u001b[1;33m=\u001b[0m\u001b[0msignal_window\u001b[0m\u001b[1;33m,\u001b[0m \u001b[0madjust\u001b[0m \u001b[1;33m=\u001b[0m \u001b[1;32mFalse\u001b[0m\u001b[1;33m,\u001b[0m \u001b[0mmin_periods\u001b[0m \u001b[1;33m=\u001b[0m \u001b[0msignal_window\u001b[0m\u001b[1;33m)\u001b[0m\u001b[1;33m.\u001b[0m\u001b[0mmean\u001b[0m\u001b[1;33m(\u001b[0m\u001b[1;33m)\u001b[0m\u001b[1;33m\u001b[0m\u001b[0m\n",
      "\u001b[1;32mc:\\Users\\macal\\OneDrive\\Documents\\OMSCS\\strategy_evaluation\\indicators.py\u001b[0m in \u001b[0;36mEMA\u001b[1;34m(prices, window)\u001b[0m\n\u001b[0;32m     45\u001b[0m     \u001b[0moffset_days\u001b[0m \u001b[1;33m=\u001b[0m \u001b[0mdt\u001b[0m\u001b[1;33m.\u001b[0m\u001b[0mtimedelta\u001b[0m\u001b[1;33m(\u001b[0m\u001b[0mdays\u001b[0m\u001b[1;33m=\u001b[0m\u001b[0mwindow\u001b[0m\u001b[1;33m*\u001b[0m\u001b[1;36m3\u001b[0m\u001b[1;33m)\u001b[0m\u001b[1;33m\u001b[0m\u001b[0m\n\u001b[0;32m     46\u001b[0m     \u001b[0mdates\u001b[0m \u001b[1;33m=\u001b[0m \u001b[0mpd\u001b[0m\u001b[1;33m.\u001b[0m\u001b[0mdate_range\u001b[0m\u001b[1;33m(\u001b[0m\u001b[0mprices\u001b[0m\u001b[1;33m.\u001b[0m\u001b[0mindex\u001b[0m\u001b[1;33m.\u001b[0m\u001b[0mmin\u001b[0m\u001b[1;33m(\u001b[0m\u001b[1;33m)\u001b[0m\u001b[1;33m-\u001b[0m\u001b[0moffset_days\u001b[0m\u001b[1;33m,\u001b[0m\u001b[0mprices\u001b[0m\u001b[1;33m.\u001b[0m\u001b[0mindex\u001b[0m\u001b[1;33m.\u001b[0m\u001b[0mmax\u001b[0m\u001b[1;33m(\u001b[0m\u001b[1;33m)\u001b[0m\u001b[1;33m)\u001b[0m\u001b[1;33m\u001b[0m\u001b[0m\n\u001b[1;32m---> 47\u001b[1;33m     \u001b[0mprices_window\u001b[0m \u001b[1;33m=\u001b[0m \u001b[0mget_data\u001b[0m\u001b[1;33m(\u001b[0m\u001b[0mprices\u001b[0m\u001b[1;33m.\u001b[0m\u001b[0mcolumns\u001b[0m\u001b[1;33m,\u001b[0m \u001b[0mdates\u001b[0m\u001b[1;33m)\u001b[0m\u001b[1;33m\u001b[0m\u001b[0m\n\u001b[0m\u001b[0;32m     48\u001b[0m     \u001b[0mprices_window\u001b[0m \u001b[1;33m=\u001b[0m \u001b[0mprices_window\u001b[0m\u001b[1;33m.\u001b[0m\u001b[0mdropna\u001b[0m\u001b[1;33m(\u001b[0m\u001b[0msubset\u001b[0m\u001b[1;33m=\u001b[0m\u001b[1;33m[\u001b[0m\u001b[1;34m\"SPY\"\u001b[0m\u001b[1;33m]\u001b[0m\u001b[1;33m)\u001b[0m\u001b[1;33m\u001b[0m\u001b[0m\n\u001b[0;32m     49\u001b[0m     \u001b[0mprices_window\u001b[0m \u001b[1;33m=\u001b[0m \u001b[0mprices_window\u001b[0m\u001b[1;33m[\u001b[0m\u001b[0mprices\u001b[0m\u001b[1;33m.\u001b[0m\u001b[0mcolumns\u001b[0m\u001b[1;33m]\u001b[0m\u001b[1;33m\u001b[0m\u001b[0m\n",
      "\u001b[1;32m~\\OneDrive\\Documents\\OMSCS\\util.py\u001b[0m in \u001b[0;36mget_data\u001b[1;34m(symbols, dates, addSPY, colname)\u001b[0m\n\u001b[0;32m     32\u001b[0m             \u001b[0mparse_dates\u001b[0m\u001b[1;33m=\u001b[0m\u001b[1;32mTrue\u001b[0m\u001b[1;33m,\u001b[0m\u001b[1;33m\u001b[0m\u001b[0m\n\u001b[0;32m     33\u001b[0m             \u001b[0musecols\u001b[0m\u001b[1;33m=\u001b[0m\u001b[1;33m[\u001b[0m\u001b[1;34m\"Date\"\u001b[0m\u001b[1;33m,\u001b[0m \u001b[0mcolname\u001b[0m\u001b[1;33m]\u001b[0m\u001b[1;33m,\u001b[0m\u001b[1;33m\u001b[0m\u001b[0m\n\u001b[1;32m---> 34\u001b[1;33m             \u001b[0mna_values\u001b[0m\u001b[1;33m=\u001b[0m\u001b[1;33m[\u001b[0m\u001b[1;34m\"nan\"\u001b[0m\u001b[1;33m]\u001b[0m\u001b[1;33m,\u001b[0m\u001b[1;33m\u001b[0m\u001b[0m\n\u001b[0m\u001b[0;32m     35\u001b[0m         )  \t\t  \t   \t\t \t   \t\t\t  \t\t \t\t\t     \t\t\t  \t \n\u001b[0;32m     36\u001b[0m         \u001b[0mdf_temp\u001b[0m \u001b[1;33m=\u001b[0m \u001b[0mdf_temp\u001b[0m\u001b[1;33m.\u001b[0m\u001b[0mrename\u001b[0m\u001b[1;33m(\u001b[0m\u001b[0mcolumns\u001b[0m\u001b[1;33m=\u001b[0m\u001b[1;33m{\u001b[0m\u001b[0mcolname\u001b[0m\u001b[1;33m:\u001b[0m \u001b[0msymbol\u001b[0m\u001b[1;33m}\u001b[0m\u001b[1;33m)\u001b[0m\u001b[1;33m\u001b[0m\u001b[0m\n",
      "\u001b[1;32mc:\\Users\\macal\\miniconda3\\envs\\ml4t\\lib\\site-packages\\pandas\\io\\parsers.py\u001b[0m in \u001b[0;36mparser_f\u001b[1;34m(filepath_or_buffer, sep, delimiter, header, names, index_col, usecols, squeeze, prefix, mangle_dupe_cols, dtype, engine, converters, true_values, false_values, skipinitialspace, skiprows, skipfooter, nrows, na_values, keep_default_na, na_filter, verbose, skip_blank_lines, parse_dates, infer_datetime_format, keep_date_col, date_parser, dayfirst, iterator, chunksize, compression, thousands, decimal, lineterminator, quotechar, quoting, doublequote, escapechar, comment, encoding, dialect, tupleize_cols, error_bad_lines, warn_bad_lines, delim_whitespace, low_memory, memory_map, float_precision)\u001b[0m\n\u001b[0;32m    700\u001b[0m                     skip_blank_lines=skip_blank_lines)\n\u001b[0;32m    701\u001b[0m \u001b[1;33m\u001b[0m\u001b[0m\n\u001b[1;32m--> 702\u001b[1;33m         \u001b[1;32mreturn\u001b[0m \u001b[0m_read\u001b[0m\u001b[1;33m(\u001b[0m\u001b[0mfilepath_or_buffer\u001b[0m\u001b[1;33m,\u001b[0m \u001b[0mkwds\u001b[0m\u001b[1;33m)\u001b[0m\u001b[1;33m\u001b[0m\u001b[0m\n\u001b[0m\u001b[0;32m    703\u001b[0m \u001b[1;33m\u001b[0m\u001b[0m\n\u001b[0;32m    704\u001b[0m     \u001b[0mparser_f\u001b[0m\u001b[1;33m.\u001b[0m\u001b[0m__name__\u001b[0m \u001b[1;33m=\u001b[0m \u001b[0mname\u001b[0m\u001b[1;33m\u001b[0m\u001b[0m\n",
      "\u001b[1;32mc:\\Users\\macal\\miniconda3\\envs\\ml4t\\lib\\site-packages\\pandas\\io\\parsers.py\u001b[0m in \u001b[0;36m_read\u001b[1;34m(filepath_or_buffer, kwds)\u001b[0m\n\u001b[0;32m    433\u001b[0m \u001b[1;33m\u001b[0m\u001b[0m\n\u001b[0;32m    434\u001b[0m     \u001b[1;32mtry\u001b[0m\u001b[1;33m:\u001b[0m\u001b[1;33m\u001b[0m\u001b[0m\n\u001b[1;32m--> 435\u001b[1;33m         \u001b[0mdata\u001b[0m \u001b[1;33m=\u001b[0m \u001b[0mparser\u001b[0m\u001b[1;33m.\u001b[0m\u001b[0mread\u001b[0m\u001b[1;33m(\u001b[0m\u001b[0mnrows\u001b[0m\u001b[1;33m)\u001b[0m\u001b[1;33m\u001b[0m\u001b[0m\n\u001b[0m\u001b[0;32m    436\u001b[0m     \u001b[1;32mfinally\u001b[0m\u001b[1;33m:\u001b[0m\u001b[1;33m\u001b[0m\u001b[0m\n\u001b[0;32m    437\u001b[0m         \u001b[0mparser\u001b[0m\u001b[1;33m.\u001b[0m\u001b[0mclose\u001b[0m\u001b[1;33m(\u001b[0m\u001b[1;33m)\u001b[0m\u001b[1;33m\u001b[0m\u001b[0m\n",
      "\u001b[1;32mc:\\Users\\macal\\miniconda3\\envs\\ml4t\\lib\\site-packages\\pandas\\io\\parsers.py\u001b[0m in \u001b[0;36mread\u001b[1;34m(self, nrows)\u001b[0m\n\u001b[0;32m   1152\u001b[0m             \u001b[0mnew_rows\u001b[0m \u001b[1;33m=\u001b[0m \u001b[0mlen\u001b[0m\u001b[1;33m(\u001b[0m\u001b[0mindex\u001b[0m\u001b[1;33m)\u001b[0m\u001b[1;33m\u001b[0m\u001b[0m\n\u001b[0;32m   1153\u001b[0m \u001b[1;33m\u001b[0m\u001b[0m\n\u001b[1;32m-> 1154\u001b[1;33m         \u001b[0mdf\u001b[0m \u001b[1;33m=\u001b[0m \u001b[0mDataFrame\u001b[0m\u001b[1;33m(\u001b[0m\u001b[0mcol_dict\u001b[0m\u001b[1;33m,\u001b[0m \u001b[0mcolumns\u001b[0m\u001b[1;33m=\u001b[0m\u001b[0mcolumns\u001b[0m\u001b[1;33m,\u001b[0m \u001b[0mindex\u001b[0m\u001b[1;33m=\u001b[0m\u001b[0mindex\u001b[0m\u001b[1;33m)\u001b[0m\u001b[1;33m\u001b[0m\u001b[0m\n\u001b[0m\u001b[0;32m   1155\u001b[0m \u001b[1;33m\u001b[0m\u001b[0m\n\u001b[0;32m   1156\u001b[0m         \u001b[0mself\u001b[0m\u001b[1;33m.\u001b[0m\u001b[0m_currow\u001b[0m \u001b[1;33m+=\u001b[0m \u001b[0mnew_rows\u001b[0m\u001b[1;33m\u001b[0m\u001b[0m\n",
      "\u001b[1;32mc:\\Users\\macal\\miniconda3\\envs\\ml4t\\lib\\site-packages\\pandas\\core\\frame.py\u001b[0m in \u001b[0;36m__init__\u001b[1;34m(self, data, index, columns, dtype, copy)\u001b[0m\n\u001b[0;32m    390\u001b[0m                                  dtype=dtype, copy=copy)\n\u001b[0;32m    391\u001b[0m         \u001b[1;32melif\u001b[0m \u001b[0misinstance\u001b[0m\u001b[1;33m(\u001b[0m\u001b[0mdata\u001b[0m\u001b[1;33m,\u001b[0m \u001b[0mdict\u001b[0m\u001b[1;33m)\u001b[0m\u001b[1;33m:\u001b[0m\u001b[1;33m\u001b[0m\u001b[0m\n\u001b[1;32m--> 392\u001b[1;33m             \u001b[0mmgr\u001b[0m \u001b[1;33m=\u001b[0m \u001b[0minit_dict\u001b[0m\u001b[1;33m(\u001b[0m\u001b[0mdata\u001b[0m\u001b[1;33m,\u001b[0m \u001b[0mindex\u001b[0m\u001b[1;33m,\u001b[0m \u001b[0mcolumns\u001b[0m\u001b[1;33m,\u001b[0m \u001b[0mdtype\u001b[0m\u001b[1;33m=\u001b[0m\u001b[0mdtype\u001b[0m\u001b[1;33m)\u001b[0m\u001b[1;33m\u001b[0m\u001b[0m\n\u001b[0m\u001b[0;32m    393\u001b[0m         \u001b[1;32melif\u001b[0m \u001b[0misinstance\u001b[0m\u001b[1;33m(\u001b[0m\u001b[0mdata\u001b[0m\u001b[1;33m,\u001b[0m \u001b[0mma\u001b[0m\u001b[1;33m.\u001b[0m\u001b[0mMaskedArray\u001b[0m\u001b[1;33m)\u001b[0m\u001b[1;33m:\u001b[0m\u001b[1;33m\u001b[0m\u001b[0m\n\u001b[0;32m    394\u001b[0m             \u001b[1;32mimport\u001b[0m \u001b[0mnumpy\u001b[0m\u001b[1;33m.\u001b[0m\u001b[0mma\u001b[0m\u001b[1;33m.\u001b[0m\u001b[0mmrecords\u001b[0m \u001b[1;32mas\u001b[0m \u001b[0mmrecords\u001b[0m\u001b[1;33m\u001b[0m\u001b[0m\n",
      "\u001b[1;32mc:\\Users\\macal\\miniconda3\\envs\\ml4t\\lib\\site-packages\\pandas\\core\\internals\\construction.py\u001b[0m in \u001b[0;36minit_dict\u001b[1;34m(data, index, columns, dtype)\u001b[0m\n\u001b[0;32m    210\u001b[0m         \u001b[0marrays\u001b[0m \u001b[1;33m=\u001b[0m \u001b[1;33m[\u001b[0m\u001b[0mdata\u001b[0m\u001b[1;33m[\u001b[0m\u001b[0mk\u001b[0m\u001b[1;33m]\u001b[0m \u001b[1;32mfor\u001b[0m \u001b[0mk\u001b[0m \u001b[1;32min\u001b[0m \u001b[0mkeys\u001b[0m\u001b[1;33m]\u001b[0m\u001b[1;33m\u001b[0m\u001b[0m\n\u001b[0;32m    211\u001b[0m \u001b[1;33m\u001b[0m\u001b[0m\n\u001b[1;32m--> 212\u001b[1;33m     \u001b[1;32mreturn\u001b[0m \u001b[0marrays_to_mgr\u001b[0m\u001b[1;33m(\u001b[0m\u001b[0marrays\u001b[0m\u001b[1;33m,\u001b[0m \u001b[0mdata_names\u001b[0m\u001b[1;33m,\u001b[0m \u001b[0mindex\u001b[0m\u001b[1;33m,\u001b[0m \u001b[0mcolumns\u001b[0m\u001b[1;33m,\u001b[0m \u001b[0mdtype\u001b[0m\u001b[1;33m=\u001b[0m\u001b[0mdtype\u001b[0m\u001b[1;33m)\u001b[0m\u001b[1;33m\u001b[0m\u001b[0m\n\u001b[0m\u001b[0;32m    213\u001b[0m \u001b[1;33m\u001b[0m\u001b[0m\n\u001b[0;32m    214\u001b[0m \u001b[1;33m\u001b[0m\u001b[0m\n",
      "\u001b[1;32mc:\\Users\\macal\\miniconda3\\envs\\ml4t\\lib\\site-packages\\pandas\\core\\internals\\construction.py\u001b[0m in \u001b[0;36marrays_to_mgr\u001b[1;34m(arrays, arr_names, index, columns, dtype)\u001b[0m\n\u001b[0;32m     57\u001b[0m \u001b[1;33m\u001b[0m\u001b[0m\n\u001b[0;32m     58\u001b[0m     \u001b[1;31m# from BlockManager perspective\u001b[0m\u001b[1;33m\u001b[0m\u001b[1;33m\u001b[0m\u001b[0m\n\u001b[1;32m---> 59\u001b[1;33m     \u001b[0maxes\u001b[0m \u001b[1;33m=\u001b[0m \u001b[1;33m[\u001b[0m\u001b[0mensure_index\u001b[0m\u001b[1;33m(\u001b[0m\u001b[0mcolumns\u001b[0m\u001b[1;33m)\u001b[0m\u001b[1;33m,\u001b[0m \u001b[0mindex\u001b[0m\u001b[1;33m]\u001b[0m\u001b[1;33m\u001b[0m\u001b[0m\n\u001b[0m\u001b[0;32m     60\u001b[0m \u001b[1;33m\u001b[0m\u001b[0m\n\u001b[0;32m     61\u001b[0m     \u001b[1;32mreturn\u001b[0m \u001b[0mcreate_block_manager_from_arrays\u001b[0m\u001b[1;33m(\u001b[0m\u001b[0marrays\u001b[0m\u001b[1;33m,\u001b[0m \u001b[0marr_names\u001b[0m\u001b[1;33m,\u001b[0m \u001b[0maxes\u001b[0m\u001b[1;33m)\u001b[0m\u001b[1;33m\u001b[0m\u001b[0m\n",
      "\u001b[1;32mc:\\Users\\macal\\miniconda3\\envs\\ml4t\\lib\\site-packages\\pandas\\core\\indexes\\base.py\u001b[0m in \u001b[0;36mensure_index\u001b[1;34m(index_like, copy)\u001b[0m\n\u001b[0;32m   5362\u001b[0m             \u001b[0mindex_like\u001b[0m \u001b[1;33m=\u001b[0m \u001b[0mlist\u001b[0m\u001b[1;33m(\u001b[0m\u001b[0mindex_like\u001b[0m\u001b[1;33m)\u001b[0m\u001b[1;33m\u001b[0m\u001b[0m\n\u001b[0;32m   5363\u001b[0m \u001b[1;33m\u001b[0m\u001b[0m\n\u001b[1;32m-> 5364\u001b[1;33m         \u001b[0mconverted\u001b[0m\u001b[1;33m,\u001b[0m \u001b[0mall_arrays\u001b[0m \u001b[1;33m=\u001b[0m \u001b[0mlib\u001b[0m\u001b[1;33m.\u001b[0m\u001b[0mclean_index_list\u001b[0m\u001b[1;33m(\u001b[0m\u001b[0mindex_like\u001b[0m\u001b[1;33m)\u001b[0m\u001b[1;33m\u001b[0m\u001b[0m\n\u001b[0m\u001b[0;32m   5365\u001b[0m \u001b[1;33m\u001b[0m\u001b[0m\n\u001b[0;32m   5366\u001b[0m         \u001b[1;32mif\u001b[0m \u001b[0mlen\u001b[0m\u001b[1;33m(\u001b[0m\u001b[0mconverted\u001b[0m\u001b[1;33m)\u001b[0m \u001b[1;33m>\u001b[0m \u001b[1;36m0\u001b[0m \u001b[1;32mand\u001b[0m \u001b[0mall_arrays\u001b[0m\u001b[1;33m:\u001b[0m\u001b[1;33m\u001b[0m\u001b[0m\n",
      "\u001b[1;32mpandas/_libs/lib.pyx\u001b[0m in \u001b[0;36mpandas._libs.lib.clean_index_list\u001b[1;34m()\u001b[0m\n",
      "\u001b[1;32mpandas/_libs/lib.pyx\u001b[0m in \u001b[0;36mpandas._libs.lib.infer_dtype\u001b[1;34m()\u001b[0m\n",
      "\u001b[1;32mc:\\Users\\macal\\miniconda3\\envs\\ml4t\\lib\\importlib\\_bootstrap.py\u001b[0m in \u001b[0;36m_find_and_load\u001b[1;34m(name, import_)\u001b[0m\n",
      "\u001b[1;32mc:\\Users\\macal\\miniconda3\\envs\\ml4t\\lib\\importlib\\_bootstrap.py\u001b[0m in \u001b[0;36m_find_and_load_unlocked\u001b[1;34m(name, import_)\u001b[0m\n",
      "\u001b[1;32mc:\\Users\\macal\\miniconda3\\envs\\ml4t\\lib\\importlib\\_bootstrap.py\u001b[0m in \u001b[0;36m_find_spec\u001b[1;34m(name, path, target)\u001b[0m\n",
      "\u001b[1;32mc:\\Users\\macal\\miniconda3\\envs\\ml4t\\lib\\importlib\\_bootstrap_external.py\u001b[0m in \u001b[0;36mfind_spec\u001b[1;34m(cls, fullname, path, target)\u001b[0m\n",
      "\u001b[1;32mc:\\Users\\macal\\miniconda3\\envs\\ml4t\\lib\\importlib\\_bootstrap_external.py\u001b[0m in \u001b[0;36m_get_spec\u001b[1;34m(cls, fullname, path, target)\u001b[0m\n",
      "\u001b[1;32mc:\\Users\\macal\\miniconda3\\envs\\ml4t\\lib\\importlib\\_bootstrap_external.py\u001b[0m in \u001b[0;36mfind_spec\u001b[1;34m(self, fullname, target)\u001b[0m\n",
      "\u001b[1;32mc:\\Users\\macal\\miniconda3\\envs\\ml4t\\lib\\importlib\\_bootstrap_external.py\u001b[0m in \u001b[0;36m_path_stat\u001b[1;34m(path)\u001b[0m\n",
      "\u001b[1;31mKeyboardInterrupt\u001b[0m: "
     ]
    }
   ],
   "source": [
    "np.random.seed(903687444)\n",
    "from scipy.optimize import differential_evolution\n",
    "\n",
    "# Define the objective function\n",
    "def objective(params):\n",
    "    N, ybuy, ysell = int(params[0]), params[1], params[2]  # N needs to be an integer\n",
    "    \n",
    "    # Instantiate StrategyLearner and perform operations as per your setup\n",
    "    Strat = StrategyLearner(impact=impact, commission=commission)\n",
    "    Strat.add_evidence(symbol=symbol, sd=in_sd, ed=in_ed, sv=sv, N=N, ybuy=ybuy, ysell=ysell)\n",
    "    in_trades = Strat.testPolicy_w_cash(symbol=symbol, sd=in_sd, ed=in_ed, sv=sv)\n",
    "    in_prices = StrategyLearner.get_prices(in_dates, symbols)\n",
    "    in_port_vals = StrategyLearner.create_port_vals(in_prices, in_trades, sv)\n",
    "    sr = get_sr(in_port_vals)\n",
    "    \n",
    "    return -sr  # Minimizing negative Sharpe Ratio to maximize Sharpe Ratio\n",
    "\n",
    "# Define bounds for N, ybuy, and ysell\n",
    "bounds = [(5, 20), (1.01, 1.1), (0.9, 0.99)]\n",
    "\n",
    "# Run differential evolution\n",
    "result = differential_evolution(objective, bounds, strategy='best1bin', maxiter=100, popsize=15, tol=0.01, mutation=(0.5, 1.5), recombination=0.7)\n",
    "\n",
    "print('Optimized Parameters:', result.x)\n",
    "print('Maximized Sharpe Ratio:', -result.fun)\n"
   ]
  }
 ],
 "metadata": {
  "kernelspec": {
   "display_name": "ml4t",
   "language": "python",
   "name": "python3"
  },
  "language_info": {
   "codemirror_mode": {
    "name": "ipython",
    "version": 3
   },
   "file_extension": ".py",
   "mimetype": "text/x-python",
   "name": "python",
   "nbconvert_exporter": "python",
   "pygments_lexer": "ipython3",
   "version": "3.6.6"
  }
 },
 "nbformat": 4,
 "nbformat_minor": 2
}
